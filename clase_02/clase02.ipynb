{
 "cells": [
  {
   "cell_type": "code",
   "execution_count": 1,
   "metadata": {},
   "outputs": [],
   "source": [
    "# Hoy vamos a presentar lo super basico de la libreria pandas.\n",
    "\n",
    "import pandas"
   ]
  },
  {
   "cell_type": "code",
   "execution_count": 2,
   "metadata": {},
   "outputs": [],
   "source": [
    "def generar_mensaje(titulo, nombre, segundo, apellido, servicio, vencimiento):\n",
    "    if segundo: # Aca el \"\" tiene valor False, si hay contenido en el str entonces tiene valor True. Magias de Python que es super flexible.\n",
    "        nombre_completo = nombre + \" \" + segundo\n",
    "    else:\n",
    "        nombre_completo = nombre\n",
    "    print (f'{titulo} {nombre_completo} {apellido}, tiene una deuda con {servicio} que vence el {vencimiento}')"
   ]
  },
  {
   "cell_type": "code",
   "execution_count": 3,
   "metadata": {},
   "outputs": [
    {
     "data": {
      "text/html": [
       "<div>\n",
       "<style scoped>\n",
       "    .dataframe tbody tr th:only-of-type {\n",
       "        vertical-align: middle;\n",
       "    }\n",
       "\n",
       "    .dataframe tbody tr th {\n",
       "        vertical-align: top;\n",
       "    }\n",
       "\n",
       "    .dataframe thead th {\n",
       "        text-align: right;\n",
       "    }\n",
       "</style>\n",
       "<table border=\"1\" class=\"dataframe\">\n",
       "  <thead>\n",
       "    <tr style=\"text-align: right;\">\n",
       "      <th></th>\n",
       "      <th>Titulo</th>\n",
       "      <th>Nombre</th>\n",
       "      <th>Segundo nombre</th>\n",
       "      <th>Apellido</th>\n",
       "      <th>Servicio</th>\n",
       "      <th>Fecha de vencimiento</th>\n",
       "    </tr>\n",
       "  </thead>\n",
       "  <tbody>\n",
       "    <tr>\n",
       "      <th>0</th>\n",
       "      <td>Sr.</td>\n",
       "      <td>Romildo</td>\n",
       "      <td>Ricardo</td>\n",
       "      <td>Lopez</td>\n",
       "      <td>Claro</td>\n",
       "      <td>12/03/22</td>\n",
       "    </tr>\n",
       "    <tr>\n",
       "      <th>1</th>\n",
       "      <td>Sra.</td>\n",
       "      <td>Maria</td>\n",
       "      <td>Ines</td>\n",
       "      <td>Gonzales</td>\n",
       "      <td>Edenor</td>\n",
       "      <td>04/09/22</td>\n",
       "    </tr>\n",
       "    <tr>\n",
       "      <th>2</th>\n",
       "      <td>Sr.</td>\n",
       "      <td>Danilo</td>\n",
       "      <td>NaN</td>\n",
       "      <td>Gugiari</td>\n",
       "      <td>Edenor</td>\n",
       "      <td>04/09/22</td>\n",
       "    </tr>\n",
       "    <tr>\n",
       "      <th>3</th>\n",
       "      <td>Sra.</td>\n",
       "      <td>Romina</td>\n",
       "      <td>Camila</td>\n",
       "      <td>Perez</td>\n",
       "      <td>Movistar</td>\n",
       "      <td>09/10/22</td>\n",
       "    </tr>\n",
       "    <tr>\n",
       "      <th>4</th>\n",
       "      <td>Sra.</td>\n",
       "      <td>Micaela</td>\n",
       "      <td>NaN</td>\n",
       "      <td>Vilas</td>\n",
       "      <td>Movistar</td>\n",
       "      <td>08/10/22</td>\n",
       "    </tr>\n",
       "  </tbody>\n",
       "</table>\n",
       "</div>"
      ],
      "text/plain": [
       "  Titulo   Nombre Segundo nombre  Apellido  Servicio Fecha de vencimiento\n",
       "0    Sr.  Romildo        Ricardo     Lopez     Claro             12/03/22\n",
       "1   Sra.    Maria           Ines  Gonzales    Edenor             04/09/22\n",
       "2    Sr.   Danilo            NaN   Gugiari    Edenor             04/09/22\n",
       "3   Sra.   Romina         Camila     Perez  Movistar             09/10/22\n",
       "4   Sra.  Micaela            NaN     Vilas  Movistar             08/10/22"
      ]
     },
     "metadata": {},
     "output_type": "display_data"
    }
   ],
   "source": [
    "datos = pandas.read_csv('C2-Ejemplo.csv')\n",
    "display (datos) # Display es una especie de print que muestra las cosas con mas formato. Solo funciona en notenbooks"
   ]
  },
  {
   "cell_type": "code",
   "execution_count": 4,
   "metadata": {},
   "outputs": [
    {
     "data": {
      "text/plain": [
       "0     Sr.\n",
       "1    Sra.\n",
       "2     Sr.\n",
       "3    Sra.\n",
       "4    Sra.\n",
       "Name: Titulo, dtype: object"
      ]
     },
     "execution_count": 4,
     "metadata": {},
     "output_type": "execute_result"
    }
   ],
   "source": [
    "# podemos seleccionar una columna como si fuese un diccionario\n",
    "\n",
    "datos['Titulo']"
   ]
  },
  {
   "cell_type": "code",
   "execution_count": 5,
   "metadata": {},
   "outputs": [
    {
     "data": {
      "text/plain": [
       "Titulo                       Sr.\n",
       "Nombre                   Romildo\n",
       "Segundo nombre           Ricardo\n",
       "Apellido                   Lopez\n",
       "Servicio                   Claro\n",
       "Fecha de vencimiento    12/03/22\n",
       "Name: 0, dtype: object"
      ]
     },
     "metadata": {},
     "output_type": "display_data"
    },
    {
     "data": {
      "text/plain": [
       "Titulo                      Sra.\n",
       "Nombre                     Maria\n",
       "Segundo nombre              Ines\n",
       "Apellido                Gonzales\n",
       "Servicio                  Edenor\n",
       "Fecha de vencimiento    04/09/22\n",
       "Name: 1, dtype: object"
      ]
     },
     "metadata": {},
     "output_type": "display_data"
    },
    {
     "data": {
      "text/plain": [
       "Titulo                       Sr.\n",
       "Nombre                    Danilo\n",
       "Segundo nombre               NaN\n",
       "Apellido                 Gugiari\n",
       "Servicio                  Edenor\n",
       "Fecha de vencimiento    04/09/22\n",
       "Name: 2, dtype: object"
      ]
     },
     "metadata": {},
     "output_type": "display_data"
    },
    {
     "data": {
      "text/plain": [
       "Titulo                      Sra.\n",
       "Nombre                    Romina\n",
       "Segundo nombre            Camila\n",
       "Apellido                   Perez\n",
       "Servicio                Movistar\n",
       "Fecha de vencimiento    09/10/22\n",
       "Name: 3, dtype: object"
      ]
     },
     "metadata": {},
     "output_type": "display_data"
    },
    {
     "data": {
      "text/plain": [
       "Titulo                      Sra.\n",
       "Nombre                   Micaela\n",
       "Segundo nombre               NaN\n",
       "Apellido                   Vilas\n",
       "Servicio                Movistar\n",
       "Fecha de vencimiento    08/10/22\n",
       "Name: 4, dtype: object"
      ]
     },
     "metadata": {},
     "output_type": "display_data"
    }
   ],
   "source": [
    "# o podemos iterar sobre los registros poniendo que querenmos que itere. Eso nos da dos datos, el primero es el identificador de la fila, el segundo una especie de diccionario con el contenido\n",
    "\n",
    "for idx, registro in datos.iterrows():\n",
    "    display (registro)\n",
    "\n",
    "# Tenemos un problema con los nombres, porque el excel viene con otros nombres de columnas. \n",
    "\n",
    "# Vamos a acostumbranos a que todo tiene solucion, a veces uno la sabe, sino la busca:\n",
    "\n",
    "# https://www.google.com/search?q=rename+columns+pandas\n",
    "\n",
    "# Si algo esta en stackoverflow es la posta en cosas de codigo."
   ]
  },
  {
   "cell_type": "code",
   "execution_count": 6,
   "metadata": {},
   "outputs": [
    {
     "data": {
      "text/html": [
       "<div>\n",
       "<style scoped>\n",
       "    .dataframe tbody tr th:only-of-type {\n",
       "        vertical-align: middle;\n",
       "    }\n",
       "\n",
       "    .dataframe tbody tr th {\n",
       "        vertical-align: top;\n",
       "    }\n",
       "\n",
       "    .dataframe thead th {\n",
       "        text-align: right;\n",
       "    }\n",
       "</style>\n",
       "<table border=\"1\" class=\"dataframe\">\n",
       "  <thead>\n",
       "    <tr style=\"text-align: right;\">\n",
       "      <th></th>\n",
       "      <th>titulo</th>\n",
       "      <th>nombre</th>\n",
       "      <th>segundo</th>\n",
       "      <th>apellido</th>\n",
       "      <th>servicio</th>\n",
       "      <th>vencimiento</th>\n",
       "    </tr>\n",
       "  </thead>\n",
       "  <tbody>\n",
       "    <tr>\n",
       "      <th>0</th>\n",
       "      <td>Sr.</td>\n",
       "      <td>Romildo</td>\n",
       "      <td>Ricardo</td>\n",
       "      <td>Lopez</td>\n",
       "      <td>Claro</td>\n",
       "      <td>12/03/22</td>\n",
       "    </tr>\n",
       "    <tr>\n",
       "      <th>1</th>\n",
       "      <td>Sra.</td>\n",
       "      <td>Maria</td>\n",
       "      <td>Ines</td>\n",
       "      <td>Gonzales</td>\n",
       "      <td>Edenor</td>\n",
       "      <td>04/09/22</td>\n",
       "    </tr>\n",
       "    <tr>\n",
       "      <th>2</th>\n",
       "      <td>Sr.</td>\n",
       "      <td>Danilo</td>\n",
       "      <td>NaN</td>\n",
       "      <td>Gugiari</td>\n",
       "      <td>Edenor</td>\n",
       "      <td>04/09/22</td>\n",
       "    </tr>\n",
       "    <tr>\n",
       "      <th>3</th>\n",
       "      <td>Sra.</td>\n",
       "      <td>Romina</td>\n",
       "      <td>Camila</td>\n",
       "      <td>Perez</td>\n",
       "      <td>Movistar</td>\n",
       "      <td>09/10/22</td>\n",
       "    </tr>\n",
       "    <tr>\n",
       "      <th>4</th>\n",
       "      <td>Sra.</td>\n",
       "      <td>Micaela</td>\n",
       "      <td>NaN</td>\n",
       "      <td>Vilas</td>\n",
       "      <td>Movistar</td>\n",
       "      <td>08/10/22</td>\n",
       "    </tr>\n",
       "  </tbody>\n",
       "</table>\n",
       "</div>"
      ],
      "text/plain": [
       "  titulo   nombre  segundo  apellido  servicio vencimiento\n",
       "0    Sr.  Romildo  Ricardo     Lopez     Claro    12/03/22\n",
       "1   Sra.    Maria     Ines  Gonzales    Edenor    04/09/22\n",
       "2    Sr.   Danilo      NaN   Gugiari    Edenor    04/09/22\n",
       "3   Sra.   Romina   Camila     Perez  Movistar    09/10/22\n",
       "4   Sra.  Micaela      NaN     Vilas  Movistar    08/10/22"
      ]
     },
     "metadata": {},
     "output_type": "display_data"
    }
   ],
   "source": [
    "# La solucion:\n",
    "\n",
    "datos = datos.rename(columns = {'Titulo':'titulo','Nombre':'nombre','Segundo nombre':'segundo','Apellido':'apellido','Servicio':'servicio','Fecha de vencimiento':'vencimiento'})\n",
    "display (datos)"
   ]
  },
  {
   "cell_type": "code",
   "execution_count": 7,
   "metadata": {},
   "outputs": [
    {
     "data": {
      "text/html": [
       "<div>\n",
       "<style scoped>\n",
       "    .dataframe tbody tr th:only-of-type {\n",
       "        vertical-align: middle;\n",
       "    }\n",
       "\n",
       "    .dataframe tbody tr th {\n",
       "        vertical-align: top;\n",
       "    }\n",
       "\n",
       "    .dataframe thead th {\n",
       "        text-align: right;\n",
       "    }\n",
       "</style>\n",
       "<table border=\"1\" class=\"dataframe\">\n",
       "  <thead>\n",
       "    <tr style=\"text-align: right;\">\n",
       "      <th></th>\n",
       "      <th>titulo</th>\n",
       "      <th>nombre</th>\n",
       "      <th>segundo</th>\n",
       "      <th>apellido</th>\n",
       "      <th>servicio</th>\n",
       "      <th>vencimiento</th>\n",
       "    </tr>\n",
       "  </thead>\n",
       "  <tbody>\n",
       "    <tr>\n",
       "      <th>0</th>\n",
       "      <td>Sr.</td>\n",
       "      <td>Romildo</td>\n",
       "      <td>Ricardo</td>\n",
       "      <td>Lopez</td>\n",
       "      <td>Claro</td>\n",
       "      <td>12/03/22</td>\n",
       "    </tr>\n",
       "    <tr>\n",
       "      <th>1</th>\n",
       "      <td>Sra.</td>\n",
       "      <td>Maria</td>\n",
       "      <td>Ines</td>\n",
       "      <td>Gonzales</td>\n",
       "      <td>Edenor</td>\n",
       "      <td>04/09/22</td>\n",
       "    </tr>\n",
       "    <tr>\n",
       "      <th>2</th>\n",
       "      <td>Sr.</td>\n",
       "      <td>Danilo</td>\n",
       "      <td></td>\n",
       "      <td>Gugiari</td>\n",
       "      <td>Edenor</td>\n",
       "      <td>04/09/22</td>\n",
       "    </tr>\n",
       "    <tr>\n",
       "      <th>3</th>\n",
       "      <td>Sra.</td>\n",
       "      <td>Romina</td>\n",
       "      <td>Camila</td>\n",
       "      <td>Perez</td>\n",
       "      <td>Movistar</td>\n",
       "      <td>09/10/22</td>\n",
       "    </tr>\n",
       "    <tr>\n",
       "      <th>4</th>\n",
       "      <td>Sra.</td>\n",
       "      <td>Micaela</td>\n",
       "      <td></td>\n",
       "      <td>Vilas</td>\n",
       "      <td>Movistar</td>\n",
       "      <td>08/10/22</td>\n",
       "    </tr>\n",
       "  </tbody>\n",
       "</table>\n",
       "</div>"
      ],
      "text/plain": [
       "  titulo   nombre  segundo  apellido  servicio vencimiento\n",
       "0    Sr.  Romildo  Ricardo     Lopez     Claro    12/03/22\n",
       "1   Sra.    Maria     Ines  Gonzales    Edenor    04/09/22\n",
       "2    Sr.   Danilo            Gugiari    Edenor    04/09/22\n",
       "3   Sra.   Romina   Camila     Perez  Movistar    09/10/22\n",
       "4   Sra.  Micaela              Vilas  Movistar    08/10/22"
      ]
     },
     "metadata": {},
     "output_type": "display_data"
    }
   ],
   "source": [
    "# Acá Reemplazo los NaN (donde no hay datos) por un string vacio.\n",
    "datos = datos.fillna('')\n",
    "datos = datos.rename(columns = {'Titulo':'titulo','Nombre':'nombre','Segundo nombre':'segundo','Apellido':'apellido','Servicio':'servicio','Fecha de vencimiento':'vencimiento'})\n",
    "display (datos)"
   ]
  },
  {
   "cell_type": "code",
   "execution_count": 8,
   "metadata": {},
   "outputs": [
    {
     "name": "stdout",
     "output_type": "stream",
     "text": [
      "Sr. Romildo Ricardo Lopez, tiene una deuda con Claro que vence el 12/03/22\n",
      "Sra. Maria Ines Gonzales, tiene una deuda con Edenor que vence el 04/09/22\n",
      "Sr. Danilo Gugiari, tiene una deuda con Edenor que vence el 04/09/22\n",
      "Sra. Romina Camila Perez, tiene una deuda con Movistar que vence el 09/10/22\n",
      "Sra. Micaela Vilas, tiene una deuda con Movistar que vence el 08/10/22\n"
     ]
    }
   ],
   "source": [
    "# Y ahora si!\n",
    "\n",
    "for idx, persona in datos.iterrows():\n",
    "    generar_mensaje(**persona)"
   ]
  }
 ],
 "metadata": {
  "kernelspec": {
   "display_name": "Python 3.9.12 ('.venv': poetry)",
   "language": "python",
   "name": "python3"
  },
  "language_info": {
   "codemirror_mode": {
    "name": "ipython",
    "version": 3
   },
   "file_extension": ".py",
   "mimetype": "text/x-python",
   "name": "python",
   "nbconvert_exporter": "python",
   "pygments_lexer": "ipython3",
   "version": "3.9.13"
  },
  "orig_nbformat": 4,
  "vscode": {
   "interpreter": {
    "hash": "2f449b8568b693f6141ec168a8138af6e79aae52e9ba4cff22a73f24fea6b928"
   }
  }
 },
 "nbformat": 4,
 "nbformat_minor": 2
}
